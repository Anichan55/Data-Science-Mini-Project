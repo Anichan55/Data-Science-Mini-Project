{
 "cells": [
  {
   "cell_type": "code",
   "execution_count": 1,
   "id": "1d8ec720",
   "metadata": {},
   "outputs": [],
   "source": [
    "import pandas as pd"
   ]
  },
  {
   "cell_type": "code",
   "execution_count": 2,
   "id": "15c7a1d1",
   "metadata": {},
   "outputs": [],
   "source": [
    "df = pd.read_excel('ID2019 Deprivation Decile - Postcode Feb 2019 lookup.xlsx',skiprows = 9)"
   ]
  },
  {
   "cell_type": "code",
   "execution_count": 3,
   "id": "3d6c8153",
   "metadata": {},
   "outputs": [
    {
     "data": {
      "text/html": [
       "<div>\n",
       "<style scoped>\n",
       "    .dataframe tbody tr th:only-of-type {\n",
       "        vertical-align: middle;\n",
       "    }\n",
       "\n",
       "    .dataframe tbody tr th {\n",
       "        vertical-align: top;\n",
       "    }\n",
       "\n",
       "    .dataframe thead th {\n",
       "        text-align: right;\n",
       "    }\n",
       "</style>\n",
       "<table border=\"1\" class=\"dataframe\">\n",
       "  <thead>\n",
       "    <tr style=\"text-align: right;\">\n",
       "      <th></th>\n",
       "      <th>Postcode (single space)</th>\n",
       "      <th>GEOWD18 code</th>\n",
       "      <th>Geographical Ward 2018 name</th>\n",
       "      <th>STATWD18 code</th>\n",
       "      <th>Statistical Ward 2018 name [Bestfit]</th>\n",
       "      <th>LSOA11 code</th>\n",
       "      <th>LSOA11 local name</th>\n",
       "      <th>IMD2019 LSOA England Rank</th>\n",
       "      <th>IMD2019 England % Rank</th>\n",
       "      <th>IMD2019 England Deprivation Decile</th>\n",
       "      <th>IMD2019 LSOA Bristol Rank</th>\n",
       "      <th>IMD2019 Bristol Deprivation Decile</th>\n",
       "    </tr>\n",
       "  </thead>\n",
       "  <tbody>\n",
       "    <tr>\n",
       "      <th>0</th>\n",
       "      <td>BS1 1AD</td>\n",
       "      <td>E05010907</td>\n",
       "      <td>Lawrence Hill</td>\n",
       "      <td>E05010907</td>\n",
       "      <td>Lawrence Hill</td>\n",
       "      <td>E01033358</td>\n",
       "      <td>Cabot Circus</td>\n",
       "      <td>1501</td>\n",
       "      <td>0.045701</td>\n",
       "      <td>England decile 1 - Most Deprived</td>\n",
       "      <td>20</td>\n",
       "      <td>Bristol decile 1 - Most Deprived</td>\n",
       "    </tr>\n",
       "    <tr>\n",
       "      <th>1</th>\n",
       "      <td>BS1 1BU</td>\n",
       "      <td>E05010892</td>\n",
       "      <td>Central</td>\n",
       "      <td>E05010892</td>\n",
       "      <td>Central</td>\n",
       "      <td>E01014540</td>\n",
       "      <td>City Centre and Queens Square</td>\n",
       "      <td>12154</td>\n",
       "      <td>0.370052</td>\n",
       "      <td>England decile 4</td>\n",
       "      <td>135</td>\n",
       "      <td>Bristol decile 6</td>\n",
       "    </tr>\n",
       "    <tr>\n",
       "      <th>2</th>\n",
       "      <td>BS1 1DA</td>\n",
       "      <td>E05010892</td>\n",
       "      <td>Central</td>\n",
       "      <td>E05010892</td>\n",
       "      <td>Central</td>\n",
       "      <td>E01014540</td>\n",
       "      <td>City Centre and Queens Square</td>\n",
       "      <td>12154</td>\n",
       "      <td>0.370052</td>\n",
       "      <td>England decile 4</td>\n",
       "      <td>135</td>\n",
       "      <td>Bristol decile 6</td>\n",
       "    </tr>\n",
       "    <tr>\n",
       "      <th>3</th>\n",
       "      <td>BS1 1DB</td>\n",
       "      <td>E05010892</td>\n",
       "      <td>Central</td>\n",
       "      <td>E05010892</td>\n",
       "      <td>Central</td>\n",
       "      <td>E01014540</td>\n",
       "      <td>City Centre and Queens Square</td>\n",
       "      <td>12154</td>\n",
       "      <td>0.370052</td>\n",
       "      <td>England decile 4</td>\n",
       "      <td>135</td>\n",
       "      <td>Bristol decile 6</td>\n",
       "    </tr>\n",
       "    <tr>\n",
       "      <th>4</th>\n",
       "      <td>BS1 1DD</td>\n",
       "      <td>E05010907</td>\n",
       "      <td>Lawrence Hill</td>\n",
       "      <td>E05010907</td>\n",
       "      <td>Lawrence Hill</td>\n",
       "      <td>E01014654</td>\n",
       "      <td>St Judes</td>\n",
       "      <td>1881</td>\n",
       "      <td>0.057271</td>\n",
       "      <td>England decile 1 - Most Deprived</td>\n",
       "      <td>27</td>\n",
       "      <td>Bristol decile 1 - Most Deprived</td>\n",
       "    </tr>\n",
       "    <tr>\n",
       "      <th>5</th>\n",
       "      <td>BS1 1DE</td>\n",
       "      <td>E05010892</td>\n",
       "      <td>Central</td>\n",
       "      <td>E05010892</td>\n",
       "      <td>Central</td>\n",
       "      <td>E01014540</td>\n",
       "      <td>City Centre and Queens Square</td>\n",
       "      <td>12154</td>\n",
       "      <td>0.370052</td>\n",
       "      <td>England decile 4</td>\n",
       "      <td>135</td>\n",
       "      <td>Bristol decile 6</td>\n",
       "    </tr>\n",
       "    <tr>\n",
       "      <th>6</th>\n",
       "      <td>BS1 1DL</td>\n",
       "      <td>E05010892</td>\n",
       "      <td>Central</td>\n",
       "      <td>E05010892</td>\n",
       "      <td>Central</td>\n",
       "      <td>E01014540</td>\n",
       "      <td>City Centre and Queens Square</td>\n",
       "      <td>12154</td>\n",
       "      <td>0.370052</td>\n",
       "      <td>England decile 4</td>\n",
       "      <td>135</td>\n",
       "      <td>Bristol decile 6</td>\n",
       "    </tr>\n",
       "    <tr>\n",
       "      <th>7</th>\n",
       "      <td>BS1 1DP</td>\n",
       "      <td>E05010892</td>\n",
       "      <td>Central</td>\n",
       "      <td>E05010892</td>\n",
       "      <td>Central</td>\n",
       "      <td>E01014540</td>\n",
       "      <td>City Centre and Queens Square</td>\n",
       "      <td>12154</td>\n",
       "      <td>0.370052</td>\n",
       "      <td>England decile 4</td>\n",
       "      <td>135</td>\n",
       "      <td>Bristol decile 6</td>\n",
       "    </tr>\n",
       "    <tr>\n",
       "      <th>8</th>\n",
       "      <td>BS1 1DQ</td>\n",
       "      <td>E05010892</td>\n",
       "      <td>Central</td>\n",
       "      <td>E05010892</td>\n",
       "      <td>Central</td>\n",
       "      <td>E01014540</td>\n",
       "      <td>City Centre and Queens Square</td>\n",
       "      <td>12154</td>\n",
       "      <td>0.370052</td>\n",
       "      <td>England decile 4</td>\n",
       "      <td>135</td>\n",
       "      <td>Bristol decile 6</td>\n",
       "    </tr>\n",
       "    <tr>\n",
       "      <th>9</th>\n",
       "      <td>BS1 1DR</td>\n",
       "      <td>E05010892</td>\n",
       "      <td>Central</td>\n",
       "      <td>E05010892</td>\n",
       "      <td>Central</td>\n",
       "      <td>E01014540</td>\n",
       "      <td>City Centre and Queens Square</td>\n",
       "      <td>12154</td>\n",
       "      <td>0.370052</td>\n",
       "      <td>England decile 4</td>\n",
       "      <td>135</td>\n",
       "      <td>Bristol decile 6</td>\n",
       "    </tr>\n",
       "  </tbody>\n",
       "</table>\n",
       "</div>"
      ],
      "text/plain": [
       "  Postcode (single space) GEOWD18 code Geographical Ward 2018 name  \\\n",
       "0                 BS1 1AD    E05010907               Lawrence Hill   \n",
       "1                 BS1 1BU    E05010892                     Central   \n",
       "2                 BS1 1DA    E05010892                     Central   \n",
       "3                 BS1 1DB    E05010892                     Central   \n",
       "4                 BS1 1DD    E05010907               Lawrence Hill   \n",
       "5                 BS1 1DE    E05010892                     Central   \n",
       "6                 BS1 1DL    E05010892                     Central   \n",
       "7                 BS1 1DP    E05010892                     Central   \n",
       "8                 BS1 1DQ    E05010892                     Central   \n",
       "9                 BS1 1DR    E05010892                     Central   \n",
       "\n",
       "  STATWD18 code Statistical Ward 2018 name [Bestfit]  LSOA11 code  \\\n",
       "0     E05010907                         Lawrence Hill   E01033358   \n",
       "1     E05010892                               Central   E01014540   \n",
       "2     E05010892                               Central   E01014540   \n",
       "3     E05010892                               Central   E01014540   \n",
       "4     E05010907                         Lawrence Hill   E01014654   \n",
       "5     E05010892                               Central   E01014540   \n",
       "6     E05010892                               Central   E01014540   \n",
       "7     E05010892                               Central   E01014540   \n",
       "8     E05010892                               Central   E01014540   \n",
       "9     E05010892                               Central   E01014540   \n",
       "\n",
       "               LSOA11 local name  IMD2019 LSOA England Rank  \\\n",
       "0                   Cabot Circus                       1501   \n",
       "1  City Centre and Queens Square                      12154   \n",
       "2  City Centre and Queens Square                      12154   \n",
       "3  City Centre and Queens Square                      12154   \n",
       "4                       St Judes                       1881   \n",
       "5  City Centre and Queens Square                      12154   \n",
       "6  City Centre and Queens Square                      12154   \n",
       "7  City Centre and Queens Square                      12154   \n",
       "8  City Centre and Queens Square                      12154   \n",
       "9  City Centre and Queens Square                      12154   \n",
       "\n",
       "   IMD2019 England % Rank IMD2019 England Deprivation Decile  \\\n",
       "0                0.045701   England decile 1 - Most Deprived   \n",
       "1                0.370052                   England decile 4   \n",
       "2                0.370052                   England decile 4   \n",
       "3                0.370052                   England decile 4   \n",
       "4                0.057271   England decile 1 - Most Deprived   \n",
       "5                0.370052                   England decile 4   \n",
       "6                0.370052                   England decile 4   \n",
       "7                0.370052                   England decile 4   \n",
       "8                0.370052                   England decile 4   \n",
       "9                0.370052                   England decile 4   \n",
       "\n",
       "   IMD2019 LSOA Bristol Rank IMD2019 Bristol Deprivation Decile  \n",
       "0                         20   Bristol decile 1 - Most Deprived  \n",
       "1                        135                   Bristol decile 6  \n",
       "2                        135                   Bristol decile 6  \n",
       "3                        135                   Bristol decile 6  \n",
       "4                         27   Bristol decile 1 - Most Deprived  \n",
       "5                        135                   Bristol decile 6  \n",
       "6                        135                   Bristol decile 6  \n",
       "7                        135                   Bristol decile 6  \n",
       "8                        135                   Bristol decile 6  \n",
       "9                        135                   Bristol decile 6  "
      ]
     },
     "execution_count": 3,
     "metadata": {},
     "output_type": "execute_result"
    }
   ],
   "source": [
    "df.head(10)"
   ]
  },
  {
   "cell_type": "code",
   "execution_count": 4,
   "id": "b4585a9f",
   "metadata": {},
   "outputs": [
    {
     "name": "stdout",
     "output_type": "stream",
     "text": [
      "<class 'pandas.core.frame.DataFrame'>\n",
      "RangeIndex: 11543 entries, 0 to 11542\n",
      "Data columns (total 12 columns):\n",
      " #   Column                                 Non-Null Count  Dtype  \n",
      "---  ------                                 --------------  -----  \n",
      " 0   Postcode (single space)                11543 non-null  object \n",
      " 1   GEOWD18 code                           11543 non-null  object \n",
      " 2   Geographical Ward 2018 name            11543 non-null  object \n",
      " 3   STATWD18 code                          11543 non-null  object \n",
      " 4   Statistical Ward 2018 name [Bestfit]   11543 non-null  object \n",
      " 5   LSOA11 code                            11543 non-null  object \n",
      " 6   LSOA11 local name                      11543 non-null  object \n",
      " 7   IMD2019 LSOA England Rank              11543 non-null  int64  \n",
      " 8   IMD2019 England % Rank                 11543 non-null  float64\n",
      " 9   IMD2019 England Deprivation Decile     11543 non-null  object \n",
      " 10  IMD2019 LSOA Bristol Rank              11543 non-null  int64  \n",
      " 11  IMD2019 Bristol Deprivation Decile     11543 non-null  object \n",
      "dtypes: float64(1), int64(2), object(9)\n",
      "memory usage: 1.1+ MB\n"
     ]
    }
   ],
   "source": [
    "df.info()"
   ]
  },
  {
   "cell_type": "code",
   "execution_count": 5,
   "id": "b46d3276",
   "metadata": {},
   "outputs": [
    {
     "data": {
      "text/plain": [
       "array(['England decile 1 - Most Deprived', 'England decile 4',\n",
       "       'England decile 6', 'England decile 2', 'England decile 5',\n",
       "       'England decile 3', 'England decile 7', 'England decile 9',\n",
       "       'England decile 8', 'England decile 10 - Least Deprived'],\n",
       "      dtype=object)"
      ]
     },
     "execution_count": 5,
     "metadata": {},
     "output_type": "execute_result"
    }
   ],
   "source": [
    "df['IMD2019 England Deprivation Decile'].unique()"
   ]
  },
  {
   "cell_type": "code",
   "execution_count": 6,
   "id": "9b23c73f",
   "metadata": {},
   "outputs": [
    {
     "data": {
      "text/plain": [
       "array(['Bristol decile 1 - Most Deprived', 'Bristol decile 6',\n",
       "       'Bristol decile 7', 'Bristol decile 3', 'Bristol decile 2',\n",
       "       'Bristol decile 5', 'Bristol decile 4', 'Bristol decile 8',\n",
       "       'Bristol decile 9', 'Bristol decile 10 - Least Deprived'],\n",
       "      dtype=object)"
      ]
     },
     "execution_count": 6,
     "metadata": {},
     "output_type": "execute_result"
    }
   ],
   "source": [
    "df['IMD2019 Bristol Deprivation Decile'].unique()"
   ]
  },
  {
   "cell_type": "code",
   "execution_count": 7,
   "id": "ffe9dabf",
   "metadata": {},
   "outputs": [],
   "source": [
    "df = df.replace('England decile 1 - Most Deprived', 1)\n",
    "df = df.replace('Bristol decile 1 - Most Deprived',1)\n",
    "\n",
    "df = df.replace('England decile 2', 2)\n",
    "df = df.replace('Bristol decile 2', 2)\n",
    "\n",
    "df = df.replace('England decile 3', 3)\n",
    "df = df.replace('Bristol decile 3', 3)\n",
    "\n",
    "df = df.replace('England decile 4', 4)\n",
    "df = df.replace('Bristol decile 4', 4)\n",
    "\n",
    "df = df.replace('England decile 5', 5)\n",
    "df = df.replace('Bristol decile 5', 5)\n",
    "\n",
    "df = df.replace('England decile 6', 6)\n",
    "df = df.replace('Bristol decile 6', 6)\n",
    "\n",
    "df = df.replace('England decile 7', 7)\n",
    "df = df.replace('Bristol decile 7', 7)\n",
    "\n",
    "df = df.replace('England decile 8', 8)\n",
    "df = df.replace('Bristol decile 8', 8)\n",
    "\n",
    "df = df.replace('England decile 9', 9)\n",
    "df = df.replace('Bristol decile 9', 9)\n",
    "\n",
    "df = df.replace('Bristol decile 10 - Least Deprived', 10)\n",
    "df = df.replace('England decile 10 - Least Deprived',10)\n"
   ]
  },
  {
   "cell_type": "code",
   "execution_count": 8,
   "id": "4c97abb3",
   "metadata": {},
   "outputs": [
    {
     "data": {
      "text/plain": [
       "array([ 1,  6,  7,  3,  2,  5,  4,  8,  9, 10], dtype=int64)"
      ]
     },
     "execution_count": 8,
     "metadata": {},
     "output_type": "execute_result"
    }
   ],
   "source": [
    "df['IMD2019 Bristol Deprivation Decile'].unique()"
   ]
  },
  {
   "cell_type": "code",
   "execution_count": 10,
   "id": "8a5dd47a",
   "metadata": {},
   "outputs": [
    {
     "data": {
      "text/plain": [
       "array([ 1,  4,  6,  2,  5,  3,  7,  9,  8, 10], dtype=int64)"
      ]
     },
     "execution_count": 10,
     "metadata": {},
     "output_type": "execute_result"
    }
   ],
   "source": [
    "df['IMD2019 England Deprivation Decile'].unique()"
   ]
  },
  {
   "cell_type": "code",
   "execution_count": 14,
   "id": "d422d078",
   "metadata": {},
   "outputs": [],
   "source": [
    "df.to_csv('cleaneddepriv.csv')"
   ]
  }
 ],
 "metadata": {
  "kernelspec": {
   "display_name": "Python 3",
   "language": "python",
   "name": "python3"
  },
  "language_info": {
   "codemirror_mode": {
    "name": "ipython",
    "version": 3
   },
   "file_extension": ".py",
   "mimetype": "text/x-python",
   "name": "python",
   "nbconvert_exporter": "python",
   "pygments_lexer": "ipython3",
   "version": "3.8.8"
  }
 },
 "nbformat": 4,
 "nbformat_minor": 5
}
