{
 "cells": [
  {
   "cell_type": "code",
   "execution_count": 1,
   "id": "025c91b2",
   "metadata": {},
   "outputs": [],
   "source": [
    "import pandas as pd\n",
    "import numpy as np"
   ]
  },
  {
   "cell_type": "code",
   "execution_count": 2,
   "id": "0051355b",
   "metadata": {},
   "outputs": [],
   "source": [
    "df=pd.read_csv(\"Noninterpolated_timeseries.csv\")"
   ]
  },
  {
   "cell_type": "code",
   "execution_count": 3,
   "id": "a0807b0b",
   "metadata": {},
   "outputs": [],
   "source": [
    "df['Year']=pd.to_datetime(df['Year'])"
   ]
  },
  {
   "cell_type": "code",
   "execution_count": 4,
   "id": "b6ac198a",
   "metadata": {},
   "outputs": [],
   "source": [
    "df.set_index('Year', inplace=True)"
   ]
  },
  {
   "cell_type": "code",
   "execution_count": 5,
   "id": "6e8a2dd9",
   "metadata": {},
   "outputs": [
    {
     "data": {
      "text/html": [
       "<div>\n",
       "<style scoped>\n",
       "    .dataframe tbody tr th:only-of-type {\n",
       "        vertical-align: middle;\n",
       "    }\n",
       "\n",
       "    .dataframe tbody tr th {\n",
       "        vertical-align: top;\n",
       "    }\n",
       "\n",
       "    .dataframe thead th {\n",
       "        text-align: right;\n",
       "    }\n",
       "</style>\n",
       "<table border=\"1\" class=\"dataframe\">\n",
       "  <thead>\n",
       "    <tr style=\"text-align: right;\">\n",
       "      <th></th>\n",
       "      <th>Average Annual Income</th>\n",
       "      <th>Population Estimate</th>\n",
       "    </tr>\n",
       "    <tr>\n",
       "      <th>Year</th>\n",
       "      <th></th>\n",
       "      <th></th>\n",
       "    </tr>\n",
       "  </thead>\n",
       "  <tbody>\n",
       "    <tr>\n",
       "      <th>2011-04-01</th>\n",
       "      <td>27126</td>\n",
       "      <td>428074</td>\n",
       "    </tr>\n",
       "    <tr>\n",
       "      <th>2012-04-01</th>\n",
       "      <td>26317</td>\n",
       "      <td>433043</td>\n",
       "    </tr>\n",
       "    <tr>\n",
       "      <th>2013-04-01</th>\n",
       "      <td>28074</td>\n",
       "      <td>438386</td>\n",
       "    </tr>\n",
       "    <tr>\n",
       "      <th>2014-04-01</th>\n",
       "      <td>28229</td>\n",
       "      <td>443791</td>\n",
       "    </tr>\n",
       "    <tr>\n",
       "      <th>2015-04-01</th>\n",
       "      <td>28348</td>\n",
       "      <td>449328</td>\n",
       "    </tr>\n",
       "    <tr>\n",
       "      <th>2016-04-01</th>\n",
       "      <td>28815</td>\n",
       "      <td>454213</td>\n",
       "    </tr>\n",
       "    <tr>\n",
       "      <th>2017-04-01</th>\n",
       "      <td>28222</td>\n",
       "      <td>459252</td>\n",
       "    </tr>\n",
       "    <tr>\n",
       "      <th>2018-04-01</th>\n",
       "      <td>30317</td>\n",
       "      <td>463405</td>\n",
       "    </tr>\n",
       "    <tr>\n",
       "      <th>2019-04-01</th>\n",
       "      <td>30795</td>\n",
       "      <td>463377</td>\n",
       "    </tr>\n",
       "    <tr>\n",
       "      <th>2020-04-01</th>\n",
       "      <td>32982</td>\n",
       "      <td>465866</td>\n",
       "    </tr>\n",
       "  </tbody>\n",
       "</table>\n",
       "</div>"
      ],
      "text/plain": [
       "            Average Annual Income  Population Estimate\n",
       "Year                                                  \n",
       "2011-04-01                  27126               428074\n",
       "2012-04-01                  26317               433043\n",
       "2013-04-01                  28074               438386\n",
       "2014-04-01                  28229               443791\n",
       "2015-04-01                  28348               449328\n",
       "2016-04-01                  28815               454213\n",
       "2017-04-01                  28222               459252\n",
       "2018-04-01                  30317               463405\n",
       "2019-04-01                  30795               463377\n",
       "2020-04-01                  32982               465866"
      ]
     },
     "execution_count": 5,
     "metadata": {},
     "output_type": "execute_result"
    }
   ],
   "source": [
    "df"
   ]
  },
  {
   "cell_type": "code",
   "execution_count": 6,
   "id": "5a008a29",
   "metadata": {},
   "outputs": [],
   "source": [
    "df=df.resample('1M').agg('max')"
   ]
  },
  {
   "cell_type": "code",
   "execution_count": 7,
   "id": "6e2ce0ff",
   "metadata": {},
   "outputs": [],
   "source": [
    "df=df.interpolate(method='time').reset_index()"
   ]
  },
  {
   "cell_type": "code",
   "execution_count": 8,
   "id": "2a1e0018",
   "metadata": {},
   "outputs": [
    {
     "data": {
      "text/html": [
       "<div>\n",
       "<style scoped>\n",
       "    .dataframe tbody tr th:only-of-type {\n",
       "        vertical-align: middle;\n",
       "    }\n",
       "\n",
       "    .dataframe tbody tr th {\n",
       "        vertical-align: top;\n",
       "    }\n",
       "\n",
       "    .dataframe thead th {\n",
       "        text-align: right;\n",
       "    }\n",
       "</style>\n",
       "<table border=\"1\" class=\"dataframe\">\n",
       "  <thead>\n",
       "    <tr style=\"text-align: right;\">\n",
       "      <th></th>\n",
       "      <th>Date</th>\n",
       "      <th>Average Annual Income</th>\n",
       "      <th>Population Estimate</th>\n",
       "    </tr>\n",
       "  </thead>\n",
       "  <tbody>\n",
       "    <tr>\n",
       "      <th>0</th>\n",
       "      <td>2011-04-30</td>\n",
       "      <td>27126.000000</td>\n",
       "      <td>428074.000000</td>\n",
       "    </tr>\n",
       "    <tr>\n",
       "      <th>1</th>\n",
       "      <td>2011-05-31</td>\n",
       "      <td>27057.478142</td>\n",
       "      <td>428494.871585</td>\n",
       "    </tr>\n",
       "    <tr>\n",
       "      <th>2</th>\n",
       "      <td>2011-06-30</td>\n",
       "      <td>26991.166667</td>\n",
       "      <td>428902.166667</td>\n",
       "    </tr>\n",
       "    <tr>\n",
       "      <th>3</th>\n",
       "      <td>2011-07-31</td>\n",
       "      <td>26922.644809</td>\n",
       "      <td>429323.038251</td>\n",
       "    </tr>\n",
       "    <tr>\n",
       "      <th>4</th>\n",
       "      <td>2011-08-31</td>\n",
       "      <td>26854.122951</td>\n",
       "      <td>429743.909836</td>\n",
       "    </tr>\n",
       "    <tr>\n",
       "      <th>...</th>\n",
       "      <td>...</td>\n",
       "      <td>...</td>\n",
       "      <td>...</td>\n",
       "    </tr>\n",
       "    <tr>\n",
       "      <th>104</th>\n",
       "      <td>2019-12-31</td>\n",
       "      <td>32258.975410</td>\n",
       "      <td>465043.133880</td>\n",
       "    </tr>\n",
       "    <tr>\n",
       "      <th>105</th>\n",
       "      <td>2020-01-31</td>\n",
       "      <td>32444.213115</td>\n",
       "      <td>465253.950820</td>\n",
       "    </tr>\n",
       "    <tr>\n",
       "      <th>106</th>\n",
       "      <td>2020-02-29</td>\n",
       "      <td>32617.500000</td>\n",
       "      <td>465451.166667</td>\n",
       "    </tr>\n",
       "    <tr>\n",
       "      <th>107</th>\n",
       "      <td>2020-03-31</td>\n",
       "      <td>32802.737705</td>\n",
       "      <td>465661.983607</td>\n",
       "    </tr>\n",
       "    <tr>\n",
       "      <th>108</th>\n",
       "      <td>2020-04-30</td>\n",
       "      <td>32982.000000</td>\n",
       "      <td>465866.000000</td>\n",
       "    </tr>\n",
       "  </tbody>\n",
       "</table>\n",
       "<p>109 rows × 3 columns</p>\n",
       "</div>"
      ],
      "text/plain": [
       "          Date  Average Annual Income  Population Estimate\n",
       "0   2011-04-30           27126.000000        428074.000000\n",
       "1   2011-05-31           27057.478142        428494.871585\n",
       "2   2011-06-30           26991.166667        428902.166667\n",
       "3   2011-07-31           26922.644809        429323.038251\n",
       "4   2011-08-31           26854.122951        429743.909836\n",
       "..         ...                    ...                  ...\n",
       "104 2019-12-31           32258.975410        465043.133880\n",
       "105 2020-01-31           32444.213115        465253.950820\n",
       "106 2020-02-29           32617.500000        465451.166667\n",
       "107 2020-03-31           32802.737705        465661.983607\n",
       "108 2020-04-30           32982.000000        465866.000000\n",
       "\n",
       "[109 rows x 3 columns]"
      ]
     },
     "execution_count": 8,
     "metadata": {},
     "output_type": "execute_result"
    }
   ],
   "source": [
    "df.rename(columns={'Year':'Date'})"
   ]
  },
  {
   "cell_type": "code",
   "execution_count": 9,
   "id": "0b99e81f",
   "metadata": {},
   "outputs": [],
   "source": [
    "df.to_csv(\"Interpolated_IncomeandPopulation.csv\")"
   ]
  }
 ],
 "metadata": {
  "kernelspec": {
   "display_name": "Python 3 (ipykernel)",
   "language": "python",
   "name": "python3"
  },
  "language_info": {
   "codemirror_mode": {
    "name": "ipython",
    "version": 3
   },
   "file_extension": ".py",
   "mimetype": "text/x-python",
   "name": "python",
   "nbconvert_exporter": "python",
   "pygments_lexer": "ipython3",
   "version": "3.9.7"
  }
 },
 "nbformat": 4,
 "nbformat_minor": 5
}
